{
 "cells": [
  {
   "cell_type": "code",
   "execution_count": 153,
   "id": "f3f815be-da07-41b6-bb55-248ecbbb9cb3",
   "metadata": {},
   "outputs": [],
   "source": [
    "df = pd.read_csv(\"spotify_millsongdata.csv\")"
   ]
  },
  {
   "cell_type": "code",
   "execution_count": 154,
   "id": "442f0b02-9a6e-40ac-871b-bb67752f1cbe",
   "metadata": {},
   "outputs": [],
   "source": [
    "import pandas as pd"
   ]
  },
  {
   "cell_type": "code",
   "execution_count": 155,
   "id": "4f11fc89-4e30-492d-b1d9-6124c872a6fc",
   "metadata": {},
   "outputs": [
    {
     "data": {
      "text/html": [
       "<div>\n",
       "<style scoped>\n",
       "    .dataframe tbody tr th:only-of-type {\n",
       "        vertical-align: middle;\n",
       "    }\n",
       "\n",
       "    .dataframe tbody tr th {\n",
       "        vertical-align: top;\n",
       "    }\n",
       "\n",
       "    .dataframe thead th {\n",
       "        text-align: right;\n",
       "    }\n",
       "</style>\n",
       "<table border=\"1\" class=\"dataframe\">\n",
       "  <thead>\n",
       "    <tr style=\"text-align: right;\">\n",
       "      <th></th>\n",
       "      <th>artist</th>\n",
       "      <th>song</th>\n",
       "      <th>link</th>\n",
       "      <th>text</th>\n",
       "    </tr>\n",
       "  </thead>\n",
       "  <tbody>\n",
       "    <tr>\n",
       "      <th>0</th>\n",
       "      <td>ABBA</td>\n",
       "      <td>Ahe's My Kind Of Girl</td>\n",
       "      <td>/a/abba/ahes+my+kind+of+girl_20598417.html</td>\n",
       "      <td>Look at her face, it's a wonderful face  \\r\\nA...</td>\n",
       "    </tr>\n",
       "    <tr>\n",
       "      <th>1</th>\n",
       "      <td>ABBA</td>\n",
       "      <td>Andante, Andante</td>\n",
       "      <td>/a/abba/andante+andante_20002708.html</td>\n",
       "      <td>Take it easy with me, please  \\r\\nTouch me gen...</td>\n",
       "    </tr>\n",
       "    <tr>\n",
       "      <th>2</th>\n",
       "      <td>ABBA</td>\n",
       "      <td>As Good As New</td>\n",
       "      <td>/a/abba/as+good+as+new_20003033.html</td>\n",
       "      <td>I'll never know why I had to go  \\r\\nWhy I had...</td>\n",
       "    </tr>\n",
       "    <tr>\n",
       "      <th>3</th>\n",
       "      <td>ABBA</td>\n",
       "      <td>Bang</td>\n",
       "      <td>/a/abba/bang_20598415.html</td>\n",
       "      <td>Making somebody happy is a question of give an...</td>\n",
       "    </tr>\n",
       "    <tr>\n",
       "      <th>4</th>\n",
       "      <td>ABBA</td>\n",
       "      <td>Bang-A-Boomerang</td>\n",
       "      <td>/a/abba/bang+a+boomerang_20002668.html</td>\n",
       "      <td>Making somebody happy is a question of give an...</td>\n",
       "    </tr>\n",
       "  </tbody>\n",
       "</table>\n",
       "</div>"
      ],
      "text/plain": [
       "  artist                   song                                        link  \\\n",
       "0   ABBA  Ahe's My Kind Of Girl  /a/abba/ahes+my+kind+of+girl_20598417.html   \n",
       "1   ABBA       Andante, Andante       /a/abba/andante+andante_20002708.html   \n",
       "2   ABBA         As Good As New        /a/abba/as+good+as+new_20003033.html   \n",
       "3   ABBA                   Bang                  /a/abba/bang_20598415.html   \n",
       "4   ABBA       Bang-A-Boomerang      /a/abba/bang+a+boomerang_20002668.html   \n",
       "\n",
       "                                                text  \n",
       "0  Look at her face, it's a wonderful face  \\r\\nA...  \n",
       "1  Take it easy with me, please  \\r\\nTouch me gen...  \n",
       "2  I'll never know why I had to go  \\r\\nWhy I had...  \n",
       "3  Making somebody happy is a question of give an...  \n",
       "4  Making somebody happy is a question of give an...  "
      ]
     },
     "execution_count": 155,
     "metadata": {},
     "output_type": "execute_result"
    }
   ],
   "source": [
    "df. head(5)"
   ]
  },
  {
   "cell_type": "code",
   "execution_count": 156,
   "id": "f69b5aa4-c966-42ed-9e88-f7505b41534e",
   "metadata": {},
   "outputs": [
    {
     "data": {
      "text/html": [
       "<div>\n",
       "<style scoped>\n",
       "    .dataframe tbody tr th:only-of-type {\n",
       "        vertical-align: middle;\n",
       "    }\n",
       "\n",
       "    .dataframe tbody tr th {\n",
       "        vertical-align: top;\n",
       "    }\n",
       "\n",
       "    .dataframe thead th {\n",
       "        text-align: right;\n",
       "    }\n",
       "</style>\n",
       "<table border=\"1\" class=\"dataframe\">\n",
       "  <thead>\n",
       "    <tr style=\"text-align: right;\">\n",
       "      <th></th>\n",
       "      <th>artist</th>\n",
       "      <th>song</th>\n",
       "      <th>link</th>\n",
       "      <th>text</th>\n",
       "    </tr>\n",
       "  </thead>\n",
       "  <tbody>\n",
       "    <tr>\n",
       "      <th>57645</th>\n",
       "      <td>Ziggy Marley</td>\n",
       "      <td>Good Old Days</td>\n",
       "      <td>/z/ziggy+marley/good+old+days_10198588.html</td>\n",
       "      <td>Irie days come on play  \\r\\nLet the angels fly...</td>\n",
       "    </tr>\n",
       "    <tr>\n",
       "      <th>57646</th>\n",
       "      <td>Ziggy Marley</td>\n",
       "      <td>Hand To Mouth</td>\n",
       "      <td>/z/ziggy+marley/hand+to+mouth_20531167.html</td>\n",
       "      <td>Power to the workers  \\r\\nMore power  \\r\\nPowe...</td>\n",
       "    </tr>\n",
       "    <tr>\n",
       "      <th>57647</th>\n",
       "      <td>Zwan</td>\n",
       "      <td>Come With Me</td>\n",
       "      <td>/z/zwan/come+with+me_20148981.html</td>\n",
       "      <td>all you need  \\r\\nis something i'll believe  \\...</td>\n",
       "    </tr>\n",
       "    <tr>\n",
       "      <th>57648</th>\n",
       "      <td>Zwan</td>\n",
       "      <td>Desire</td>\n",
       "      <td>/z/zwan/desire_20148986.html</td>\n",
       "      <td>northern star  \\r\\nam i frightened  \\r\\nwhere ...</td>\n",
       "    </tr>\n",
       "    <tr>\n",
       "      <th>57649</th>\n",
       "      <td>Zwan</td>\n",
       "      <td>Heartsong</td>\n",
       "      <td>/z/zwan/heartsong_20148991.html</td>\n",
       "      <td>come in  \\r\\nmake yourself at home  \\r\\ni'm a ...</td>\n",
       "    </tr>\n",
       "  </tbody>\n",
       "</table>\n",
       "</div>"
      ],
      "text/plain": [
       "             artist           song  \\\n",
       "57645  Ziggy Marley  Good Old Days   \n",
       "57646  Ziggy Marley  Hand To Mouth   \n",
       "57647          Zwan   Come With Me   \n",
       "57648          Zwan         Desire   \n",
       "57649          Zwan      Heartsong   \n",
       "\n",
       "                                              link  \\\n",
       "57645  /z/ziggy+marley/good+old+days_10198588.html   \n",
       "57646  /z/ziggy+marley/hand+to+mouth_20531167.html   \n",
       "57647           /z/zwan/come+with+me_20148981.html   \n",
       "57648                 /z/zwan/desire_20148986.html   \n",
       "57649              /z/zwan/heartsong_20148991.html   \n",
       "\n",
       "                                                    text  \n",
       "57645  Irie days come on play  \\r\\nLet the angels fly...  \n",
       "57646  Power to the workers  \\r\\nMore power  \\r\\nPowe...  \n",
       "57647  all you need  \\r\\nis something i'll believe  \\...  \n",
       "57648  northern star  \\r\\nam i frightened  \\r\\nwhere ...  \n",
       "57649  come in  \\r\\nmake yourself at home  \\r\\ni'm a ...  "
      ]
     },
     "execution_count": 156,
     "metadata": {},
     "output_type": "execute_result"
    }
   ],
   "source": [
    "df.tail(5)"
   ]
  },
  {
   "cell_type": "code",
   "execution_count": 157,
   "id": "00e241a5-eac9-49a6-b499-cf72a730ebb1",
   "metadata": {},
   "outputs": [
    {
     "data": {
      "text/plain": [
       "(57650, 4)"
      ]
     },
     "execution_count": 157,
     "metadata": {},
     "output_type": "execute_result"
    }
   ],
   "source": [
    "df.shape"
   ]
  },
  {
   "cell_type": "code",
   "execution_count": 158,
   "id": "8a23fd34-b25b-4324-bc54-476ee9f1654c",
   "metadata": {},
   "outputs": [
    {
     "data": {
      "text/plain": [
       "artist    0\n",
       "song      0\n",
       "link      0\n",
       "text      0\n",
       "dtype: int64"
      ]
     },
     "execution_count": 158,
     "metadata": {},
     "output_type": "execute_result"
    }
   ],
   "source": [
    "df.isnull().sum()"
   ]
  },
  {
   "cell_type": "code",
   "execution_count": 159,
   "id": "e412cc82-7519-434e-b1f8-12cd5ef9369d",
   "metadata": {},
   "outputs": [],
   "source": [
    "df= df.sample(30000).drop('link', axis=1).reset_index(drop=True)"
   ]
  },
  {
   "cell_type": "code",
   "execution_count": 160,
   "id": "c8d83dbf-8859-4d13-97b1-a20a487b58b3",
   "metadata": {},
   "outputs": [
    {
     "data": {
      "text/html": [
       "<div>\n",
       "<style scoped>\n",
       "    .dataframe tbody tr th:only-of-type {\n",
       "        vertical-align: middle;\n",
       "    }\n",
       "\n",
       "    .dataframe tbody tr th {\n",
       "        vertical-align: top;\n",
       "    }\n",
       "\n",
       "    .dataframe thead th {\n",
       "        text-align: right;\n",
       "    }\n",
       "</style>\n",
       "<table border=\"1\" class=\"dataframe\">\n",
       "  <thead>\n",
       "    <tr style=\"text-align: right;\">\n",
       "      <th></th>\n",
       "      <th>artist</th>\n",
       "      <th>song</th>\n",
       "      <th>text</th>\n",
       "    </tr>\n",
       "  </thead>\n",
       "  <tbody>\n",
       "    <tr>\n",
       "      <th>0</th>\n",
       "      <td>David Guetta</td>\n",
       "      <td>It's The Way You Love Me</td>\n",
       "      <td>Late at night I lose my focus  \\r\\nLate at nig...</td>\n",
       "    </tr>\n",
       "    <tr>\n",
       "      <th>1</th>\n",
       "      <td>Grease</td>\n",
       "      <td>Mooning</td>\n",
       "      <td>I spend my days just mooning, so sad and blue,...</td>\n",
       "    </tr>\n",
       "    <tr>\n",
       "      <th>2</th>\n",
       "      <td>Venom</td>\n",
       "      <td>In Memory Of (Paul Miller 1964-90)</td>\n",
       "      <td>He was in life as he was in death  \\r\\nA well ...</td>\n",
       "    </tr>\n",
       "    <tr>\n",
       "      <th>3</th>\n",
       "      <td>George Harrison</td>\n",
       "      <td>A Hard Rain's Gonna Fall</td>\n",
       "      <td>(george: like to bring on a friend of us all, ...</td>\n",
       "    </tr>\n",
       "    <tr>\n",
       "      <th>4</th>\n",
       "      <td>Etta James</td>\n",
       "      <td>Strung Out</td>\n",
       "      <td>I will do whatever you say  \\r\\nIt's got to be...</td>\n",
       "    </tr>\n",
       "    <tr>\n",
       "      <th>5</th>\n",
       "      <td>Kelly Family</td>\n",
       "      <td>So Many Things</td>\n",
       "      <td>You say it's hard on you  \\r\\nand sometimes to...</td>\n",
       "    </tr>\n",
       "    <tr>\n",
       "      <th>6</th>\n",
       "      <td>Depeche Mode</td>\n",
       "      <td>Tomorrow's Dance</td>\n",
       "      <td>Saturday night, you look so chic  \\r\\nBeen wai...</td>\n",
       "    </tr>\n",
       "    <tr>\n",
       "      <th>7</th>\n",
       "      <td>George Harrison</td>\n",
       "      <td>This Guitar</td>\n",
       "      <td>(one, two, three, four)  \\r\\n  \\r\\nFound mysel...</td>\n",
       "    </tr>\n",
       "    <tr>\n",
       "      <th>8</th>\n",
       "      <td>Clash</td>\n",
       "      <td>The Call Up</td>\n",
       "      <td>It's up to you not to heed the call-up  \\r\\n'N...</td>\n",
       "    </tr>\n",
       "    <tr>\n",
       "      <th>9</th>\n",
       "      <td>Queensryche</td>\n",
       "      <td>Della Brown</td>\n",
       "      <td>You've got a cardboard house  \\r\\nLive there a...</td>\n",
       "    </tr>\n",
       "  </tbody>\n",
       "</table>\n",
       "</div>"
      ],
      "text/plain": [
       "            artist                                song  \\\n",
       "0     David Guetta            It's The Way You Love Me   \n",
       "1           Grease                             Mooning   \n",
       "2            Venom  In Memory Of (Paul Miller 1964-90)   \n",
       "3  George Harrison            A Hard Rain's Gonna Fall   \n",
       "4       Etta James                          Strung Out   \n",
       "5     Kelly Family                      So Many Things   \n",
       "6     Depeche Mode                    Tomorrow's Dance   \n",
       "7  George Harrison                         This Guitar   \n",
       "8            Clash                         The Call Up   \n",
       "9      Queensryche                         Della Brown   \n",
       "\n",
       "                                                text  \n",
       "0  Late at night I lose my focus  \\r\\nLate at nig...  \n",
       "1  I spend my days just mooning, so sad and blue,...  \n",
       "2  He was in life as he was in death  \\r\\nA well ...  \n",
       "3  (george: like to bring on a friend of us all, ...  \n",
       "4  I will do whatever you say  \\r\\nIt's got to be...  \n",
       "5  You say it's hard on you  \\r\\nand sometimes to...  \n",
       "6  Saturday night, you look so chic  \\r\\nBeen wai...  \n",
       "7  (one, two, three, four)  \\r\\n  \\r\\nFound mysel...  \n",
       "8  It's up to you not to heed the call-up  \\r\\n'N...  \n",
       "9  You've got a cardboard house  \\r\\nLive there a...  "
      ]
     },
     "execution_count": 160,
     "metadata": {},
     "output_type": "execute_result"
    }
   ],
   "source": [
    "df.head(10)"
   ]
  },
  {
   "cell_type": "code",
   "execution_count": 161,
   "id": "86c1ebd9-384c-4829-aa39-a1377a75b6ac",
   "metadata": {},
   "outputs": [
    {
     "data": {
      "text/plain": [
       "\"Late at night I lose my focus  \\r\\nLate at night I'm calling out for you  \\r\\nIt can't be right I got no focus  \\r\\nI hope you noticed  \\r\\n  \\r\\nThe chemistry is off the radar  \\r\\nLook at me I don't know what to do  \\r\\nThis chemistry is off the radar  \\r\\nLet me see you later  \\r\\n  \\r\\nOver and over you run in my mind  \\r\\nGive me one look and you know I'm fine  \\r\\nCan't you see we're only wasting our time  \\r\\nBaby thought you understood  \\r\\n  \\r\\nIt's the way you look, me  \\r\\nIt's the way you move, me  \\r\\nAnd the way you touch, me  \\r\\nIt's the way you love, me  \\r\\n  \\r\\nWhat's the point? I can't remember  \\r\\nWhere's the key? Well give it up to me  \\r\\nYou got me boy and I surrender  \\r\\nLets get you back to my  \\r\\n  \\r\\nOver and over you run in my mind  \\r\\nGive me one look and you know I'm fine  \\r\\nCan't you see we're only wasting our time  \\r\\nBaby thought you understood  \\r\\n  \\r\\nIt's the way you look, me  \\r\\nIt's the way you move, me  \\r\\nAnd the way you touch, me  \\r\\nIt's the way you love, me  \\r\\n  \\r\\nBaby it's simple to see  \\r\\nBaby it's simple  \\r\\nThis is where I'm meant to be  \\r\\nThis is where I'm meant to be  \\r\\n  \\r\\nYou stole a piece of my heart  \\r\\nYou stole a piece of my heart baby  \\r\\nYou're making me start all over  \\r\\n  \\r\\nIt's the way you love, me  \\r\\nAnd the way you move, me  \\r\\n  \\r\\nIt's the way you love, me  \\r\\nAnd the way you move, me  \\r\\nAnd the way you touch, me  \\r\\nIt's the way you love, me  \\r\\nAnd the way you love  \\r\\n  \\r\\nEvery little thing you do  \\r\\nEverything that you do  \\r\\nYou can put me in the mood  \\r\\nYou put me in the mood  \\r\\n  \\r\\nNow I'm looking straight at you  \\r\\nYou're looking at me too  \\r\\nYeah you know what I want from you!\\r\\n\\r\\n\""
      ]
     },
     "execution_count": 161,
     "metadata": {},
     "output_type": "execute_result"
    }
   ],
   "source": [
    "df['text'][0]"
   ]
  },
  {
   "cell_type": "code",
   "execution_count": 162,
   "id": "9cf1d0fe-b1ad-4160-be8e-74618f449ec3",
   "metadata": {},
   "outputs": [
    {
     "data": {
      "text/plain": [
       "(30000, 3)"
      ]
     },
     "execution_count": 162,
     "metadata": {},
     "output_type": "execute_result"
    }
   ],
   "source": [
    "df.shape"
   ]
  },
  {
   "cell_type": "code",
   "execution_count": 163,
   "id": "dcbb647c-1e4d-44cf-8216-2154803c244e",
   "metadata": {},
   "outputs": [],
   "source": [
    "df['text'] = df['text'].str.lower().replace(r'^\\w\\s', ' ').replace(r'\\n', ' ', regex = True)"
   ]
  },
  {
   "cell_type": "code",
   "execution_count": 164,
   "id": "976bc4d1-fa4d-4c10-90f5-7d42d735b308",
   "metadata": {},
   "outputs": [
    {
     "data": {
      "text/html": [
       "<div>\n",
       "<style scoped>\n",
       "    .dataframe tbody tr th:only-of-type {\n",
       "        vertical-align: middle;\n",
       "    }\n",
       "\n",
       "    .dataframe tbody tr th {\n",
       "        vertical-align: top;\n",
       "    }\n",
       "\n",
       "    .dataframe thead th {\n",
       "        text-align: right;\n",
       "    }\n",
       "</style>\n",
       "<table border=\"1\" class=\"dataframe\">\n",
       "  <thead>\n",
       "    <tr style=\"text-align: right;\">\n",
       "      <th></th>\n",
       "      <th>artist</th>\n",
       "      <th>song</th>\n",
       "      <th>text</th>\n",
       "    </tr>\n",
       "  </thead>\n",
       "  <tbody>\n",
       "    <tr>\n",
       "      <th>29990</th>\n",
       "      <td>Cyndi Lauper</td>\n",
       "      <td>Product Of Misery</td>\n",
       "      <td>she's just a product of misery...  \\r   \\r eve...</td>\n",
       "    </tr>\n",
       "    <tr>\n",
       "      <th>29991</th>\n",
       "      <td>Perry Como</td>\n",
       "      <td>Ave Maria</td>\n",
       "      <td>ave maria  \\r gratia plena  \\r maria, gratia p...</td>\n",
       "    </tr>\n",
       "    <tr>\n",
       "      <th>29992</th>\n",
       "      <td>Lloyd Cole</td>\n",
       "      <td>To The Lions</td>\n",
       "      <td>i lost my girl on monday  \\r looking for some ...</td>\n",
       "    </tr>\n",
       "    <tr>\n",
       "      <th>29993</th>\n",
       "      <td>Dan Fogelberg</td>\n",
       "      <td>Same Old Lang Syne</td>\n",
       "      <td>met my old lover in the grocery store  \\r the ...</td>\n",
       "    </tr>\n",
       "    <tr>\n",
       "      <th>29994</th>\n",
       "      <td>David Allan Coe</td>\n",
       "      <td>33rd Of August</td>\n",
       "      <td>mhmm mhmm mhmm too doo doo doo mhmm  \\r well t...</td>\n",
       "    </tr>\n",
       "    <tr>\n",
       "      <th>29995</th>\n",
       "      <td>Patti Smith</td>\n",
       "      <td>Dead City</td>\n",
       "      <td>this dead city  \\r longs to be  \\r this dead c...</td>\n",
       "    </tr>\n",
       "    <tr>\n",
       "      <th>29996</th>\n",
       "      <td>Marillion</td>\n",
       "      <td>Three Minute Boy</td>\n",
       "      <td>here today  \\r gone this afternoon  \\r another...</td>\n",
       "    </tr>\n",
       "    <tr>\n",
       "      <th>29997</th>\n",
       "      <td>Hank Snow</td>\n",
       "      <td>I'll Ride Back To Lonesome Valley</td>\n",
       "      <td>my troublin' mind tonight is drifting  \\r to a...</td>\n",
       "    </tr>\n",
       "    <tr>\n",
       "      <th>29998</th>\n",
       "      <td>Mud</td>\n",
       "      <td>Hippy Hippy Shake</td>\n",
       "      <td>for goodness sake.  \\r i've got the hippy hipp...</td>\n",
       "    </tr>\n",
       "    <tr>\n",
       "      <th>29999</th>\n",
       "      <td>Glee</td>\n",
       "      <td>Don't Sleep In The Subway</td>\n",
       "      <td>you wander around on your own little cloud  \\r...</td>\n",
       "    </tr>\n",
       "  </tbody>\n",
       "</table>\n",
       "</div>"
      ],
      "text/plain": [
       "                artist                               song  \\\n",
       "29990     Cyndi Lauper                  Product Of Misery   \n",
       "29991       Perry Como                          Ave Maria   \n",
       "29992       Lloyd Cole                       To The Lions   \n",
       "29993    Dan Fogelberg                 Same Old Lang Syne   \n",
       "29994  David Allan Coe                     33rd Of August   \n",
       "29995      Patti Smith                          Dead City   \n",
       "29996        Marillion                   Three Minute Boy   \n",
       "29997        Hank Snow  I'll Ride Back To Lonesome Valley   \n",
       "29998              Mud                  Hippy Hippy Shake   \n",
       "29999             Glee          Don't Sleep In The Subway   \n",
       "\n",
       "                                                    text  \n",
       "29990  she's just a product of misery...  \\r   \\r eve...  \n",
       "29991  ave maria  \\r gratia plena  \\r maria, gratia p...  \n",
       "29992  i lost my girl on monday  \\r looking for some ...  \n",
       "29993  met my old lover in the grocery store  \\r the ...  \n",
       "29994  mhmm mhmm mhmm too doo doo doo mhmm  \\r well t...  \n",
       "29995  this dead city  \\r longs to be  \\r this dead c...  \n",
       "29996  here today  \\r gone this afternoon  \\r another...  \n",
       "29997  my troublin' mind tonight is drifting  \\r to a...  \n",
       "29998  for goodness sake.  \\r i've got the hippy hipp...  \n",
       "29999  you wander around on your own little cloud  \\r...  "
      ]
     },
     "execution_count": 164,
     "metadata": {},
     "output_type": "execute_result"
    }
   ],
   "source": [
    "df.tail(10)"
   ]
  },
  {
   "cell_type": "code",
   "execution_count": 165,
   "id": "25c0b889-6a06-4141-a5b0-9cc19ea67ea4",
   "metadata": {},
   "outputs": [],
   "source": [
    "import nltk\n",
    "from nltk.stem.porter import PorterStemmer"
   ]
  },
  {
   "cell_type": "code",
   "execution_count": 166,
   "id": "7612f73d-a41a-4570-81da-d73680e687a6",
   "metadata": {},
   "outputs": [],
   "source": [
    "stemmer = PorterStemmer()"
   ]
  },
  {
   "cell_type": "code",
   "execution_count": 167,
   "id": "fdbb63d6-6152-4646-8b11-f22f1bafc0e2",
   "metadata": {},
   "outputs": [],
   "source": [
    "def token(txt):\n",
    "    token = nltk.word_tokenize(txt)\n",
    "    a = [stemmer.stem(w) for w in token]\n",
    "    return \" \".join(a)\n"
   ]
  },
  {
   "cell_type": "code",
   "execution_count": 168,
   "id": "be29d06f-76b1-4ce0-916c-5cc407c02461",
   "metadata": {},
   "outputs": [
    {
     "name": "stdout",
     "output_type": "stream",
     "text": [
      "you are beauti beauti\n"
     ]
    }
   ],
   "source": [
    "import re\n",
    "from nltk.stem import PorterStemmer\n",
    "\n",
    "stemmer = PorterStemmer()\n",
    "\n",
    "def token(txt):\n",
    "    # Split words by anything that is not a letter or number\n",
    "    tokens = re.findall(r'\\b\\w+\\b', txt.lower())\n",
    "    stemmed_tokens = [stemmer.stem(w) for w in tokens]\n",
    "    return \" \".join(stemmed_tokens)\n",
    "\n",
    "print(token(\"you are beautiful, beauty\"))\n"
   ]
  },
  {
   "cell_type": "code",
   "execution_count": 169,
   "id": "aa6f6c41-c6e0-43ca-af71-776de21719f9",
   "metadata": {},
   "outputs": [
    {
     "data": {
      "text/plain": [
       "0        late at night i lose my focu late at night i m...\n",
       "1        i spend my day just moon so sad and blue so sa...\n",
       "2        he wa in life as he wa in death a well remeb m...\n",
       "3        georg like to bring on a friend of us all mr b...\n",
       "4        i will do whatev you say it s got to be it s g...\n",
       "                               ...                        \n",
       "29995    thi dead citi long to be thi dead citi long to...\n",
       "29996    here today gone thi afternoon anoth tune we al...\n",
       "29997    my troublin mind tonight is drift to a cottag ...\n",
       "29998    for good sake i ve got the hippi hippi shake y...\n",
       "29999    you wander around on your own littl cloud when...\n",
       "Name: text, Length: 30000, dtype: object"
      ]
     },
     "execution_count": 169,
     "metadata": {},
     "output_type": "execute_result"
    }
   ],
   "source": [
    "df['text'].apply(lambda x: token(x))"
   ]
  },
  {
   "cell_type": "code",
   "execution_count": 170,
   "id": "123f8d37-5166-4d4d-befc-2aa51425b74f",
   "metadata": {},
   "outputs": [
    {
     "name": "stdout",
     "output_type": "stream",
     "text": [
      "[[1.         0.00358705 0.01296015 ... 0.02298174 0.00743611 0.02391424]\n",
      " [0.00358705 1.         0.00979728 ... 0.03756173 0.00309006 0.01846343]\n",
      " [0.01296015 0.00979728 1.         ... 0.02027088 0.00526933 0.00679532]\n",
      " ...\n",
      " [0.02298174 0.03756173 0.02027088 ... 1.         0.00125451 0.05645123]\n",
      " [0.00743611 0.00309006 0.00526933 ... 0.00125451 1.         0.00212802]\n",
      " [0.02391424 0.01846343 0.00679532 ... 0.05645123 0.00212802 1.        ]]\n"
     ]
    }
   ],
   "source": [
    "from sklearn.feature_extraction.text import TfidfVectorizer\n",
    "from sklearn.metrics.pairwise import cosine_similarity\n",
    "\n",
    "# Example assuming df['text'] contains your text data\n",
    "tfid = TfidfVectorizer(analyzer='word', stop_words='english')\n",
    "matrix = tfid.fit_transform(df['text'])\n",
    "\n",
    "# Compute cosine similarity between all documents\n",
    "similar = cosine_similarity(matrix)\n",
    "\n",
    "print(similar)\n"
   ]
  },
  {
   "cell_type": "code",
   "execution_count": 171,
   "id": "26d3f6ae-4d01-4460-b829-d71fef8736be",
   "metadata": {},
   "outputs": [
    {
     "name": "stdout",
     "output_type": "stream",
     "text": [
      "Song found at indices: [7818, 24427, 27433, 29613]\n"
     ]
    }
   ],
   "source": [
    "import pandas as pd\n",
    "\n",
    "def find_song_index(df, song_name, partial=False):\n",
    "   \n",
    "    # Clean the song column\n",
    "    clean_songs = df['song'].str.strip().str.lower()\n",
    "    song_name_clean = song_name.strip().lower()\n",
    "    \n",
    "    if partial:\n",
    "        matches = df[clean_songs.str.contains(song_name_clean, na=False)]\n",
    "    else:\n",
    "        matches = df[clean_songs == song_name_clean]\n",
    "    \n",
    "    if matches.empty:\n",
    "        return []\n",
    "    else:\n",
    "        return matches.index.tolist()\n",
    "\n",
    "# Example usage:\n",
    "song_to_find = \"You Belong To Me\"\n",
    "indices = find_song_index(df, song_to_find)\n",
    "\n",
    "if indices:\n",
    "    print(f\"Song found at indices: {indices}\")\n",
    "else:\n",
    "    print(\"Song not found\")\n",
    "\n"
   ]
  },
  {
   "cell_type": "code",
   "execution_count": 172,
   "id": "6acae199-e6e4-4d47-b981-42c9f18548d7",
   "metadata": {},
   "outputs": [
    {
     "data": {
      "text/plain": [
       "['You Belong To Me',\n",
       " 'You Belong To Me',\n",
       " 'Back Where You Belong',\n",
       " 'You Belong To Me']"
      ]
     },
     "execution_count": 172,
     "metadata": {},
     "output_type": "execute_result"
    }
   ],
   "source": [
    "def recommender(song_name):\n",
    "    # Get the index of the song safely\n",
    "    indices = find_song_index(df, song_name)\n",
    "    if not indices:\n",
    "        print(\"Song not found\")\n",
    "        return\n",
    "    idx = indices[0]  # first match\n",
    "\n",
    "    # Use the correct variable name 'similar'\n",
    "    distance = sorted(list(enumerate(similar[idx])), reverse=True, key=lambda x: x[1])\n",
    "    \n",
    "    song = []\n",
    "    for s_id in distance[1:5]:  # skip first (itself)\n",
    "        song.append(df.iloc[s_id[0]].song)\n",
    "    return song\n",
    "\n",
    "# Example usage\n",
    "recommender(\"You Belong To Me\")\n"
   ]
  },
  {
   "cell_type": "code",
   "execution_count": 173,
   "id": "cd3b5395-1b23-42bc-8699-5748b1dc47e9",
   "metadata": {},
   "outputs": [],
   "source": [
    "import pickle"
   ]
  },
  {
   "cell_type": "code",
   "execution_count": 174,
   "id": "d57efcf1-e3f0-43c3-ac7d-2d94cf4c6ec8",
   "metadata": {},
   "outputs": [],
   "source": [
    "pickle.dump(similar, open(\"similarity\", \"wb\"))"
   ]
  },
  {
   "cell_type": "code",
   "execution_count": 175,
   "id": "616eb9bc-4c94-4b4d-a75f-959f1a360c51",
   "metadata": {},
   "outputs": [],
   "source": [
    "pickle.dump(similar, open(\"df\", \"wb\"))"
   ]
  },
  {
   "cell_type": "code",
   "execution_count": null,
   "id": "5840a60d-05f9-4b6b-b09f-a48c14d02fee",
   "metadata": {},
   "outputs": [],
   "source": []
  }
 ],
 "metadata": {
  "kernelspec": {
   "display_name": "Python [conda env:base] *",
   "language": "python",
   "name": "conda-base-py"
  },
  "language_info": {
   "codemirror_mode": {
    "name": "ipython",
    "version": 3
   },
   "file_extension": ".py",
   "mimetype": "text/x-python",
   "name": "python",
   "nbconvert_exporter": "python",
   "pygments_lexer": "ipython3",
   "version": "3.13.5"
  }
 },
 "nbformat": 4,
 "nbformat_minor": 5
}
